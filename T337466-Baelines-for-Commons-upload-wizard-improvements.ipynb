{
 "cells": [
  {
   "cell_type": "markdown",
   "id": "22bf8f9e-2a26-4035-a18e-9bb3d9865b4b",
   "metadata": {},
   "source": [
    "# Baselines for Commons Upload Wizard Improvements"
   ]
  },
  {
   "cell_type": "markdown",
   "id": "bf7a0d1f-d03d-4f88-9e2c-b280a71b83aa",
   "metadata": {},
   "source": [
    "[T337466](https://phabricator.wikimedia.org/T337466)"
   ]
  },
  {
   "cell_type": "markdown",
   "id": "899ab1b7-0db3-426f-bf21-61c8ec263165",
   "metadata": {},
   "source": [
    "The goal of this task is to calculate baselines success metrics and goals for Commons upload wizard improvements. "
   ]
  },
  {
   "cell_type": "markdown",
   "id": "feeef462-fe3f-4102-9eab-0ce901a306d7",
   "metadata": {},
   "source": [
    "In this notebook, we want include the baselines for the follwoing metrics:\n",
    "- Total number of upload media within a month through upload wizard (filter by own work and not own work)\n",
    "- Total number of filed deletion requests and total number of speedy deletions within a month (filter by own work and not own work)\n",
    "- The ratio of upload media (filter by own work and not own work) to filed deletion requests within a month. This does not include speedy deletions\n",
    "- The ratio of upload media (filter by own work and not own work) to speedy deletion within a month"
   ]
  },
  {
   "cell_type": "code",
   "execution_count": 4,
   "id": "151d9d42-dc5d-471d-bbdb-a12f3a27d6f8",
   "metadata": {},
   "outputs": [],
   "source": [
    "import re\n",
    "\n",
    "from wmfdata import hive, mariadb, spark\n",
    "import wmfdata \n",
    "\n",
    "import math\n",
    "import pandas as pd\n",
    "import numpy as np\n",
    "\n",
    "from datetime import datetime, timedelta, date"
   ]
  },
  {
   "cell_type": "code",
   "execution_count": null,
   "id": "1e8c10c6-830c-49b1-9fdd-73d6f3b4460d",
   "metadata": {},
   "outputs": [],
   "source": [
    "spark_session = wmfdata.spark.create_session(app_name='pyspark regular; media-uploads',\n",
    "                                  type='yarn-large')  "
   ]
  },
  {
   "cell_type": "code",
   "execution_count": 6,
   "id": "40a94bac-4853-4ff5-8a56-3d674e125783",
   "metadata": {},
   "outputs": [],
   "source": [
    "snapshot = '2023-05'  \n",
    "start_date = '2023-05-01'\n",
    "end_date = '2023-06-01'"
   ]
  },
  {
   "cell_type": "markdown",
   "id": "7d25ce30-565c-4ce2-ab3b-1321fb48c52d",
   "metadata": {},
   "source": [
    "## File Uploads"
   ]
  },
  {
   "cell_type": "markdown",
   "id": "4a77c847-6413-44e2-8afa-f81ecf9d9bc9",
   "metadata": {},
   "source": [
    "Get file uploads data, we will exclude bot and mobile uploads here. For the baselines, we are using data from May 2023."
   ]
  },
  {
   "cell_type": "code",
   "execution_count": 7,
   "id": "85846ba2-2f99-4b52-8126-644e47cc9812",
   "metadata": {},
   "outputs": [],
   "source": [
    "uploads_query = \"\"\"\n",
    "SELECT\n",
    "   event_timestamp,\n",
    "   page_id,\n",
    "   page_title,\n",
    "   event_comment,\n",
    "   CASE WHEN ARRAY_CONTAINS(revision_tags, 'uploadwizard') THEN true ELSE false END AS upload_wizard,\n",
    "   CASE WHEN ARRAY_CONTAINS(revision_tags, 'ios app edit') \n",
    "            OR ARRAY_CONTAINS(revision_tags, 'android app edit') \n",
    "            OR ARRAY_CONTAINS(revision_tags, 'mobile app edit') \n",
    "            OR ARRAY_CONTAINS(revision_tags, 'mobile web edit') THEN 'mobile'\n",
    "        ELSE 'other'\n",
    "    END AS platform,\n",
    "    CASE WHEN LOWER(event_comment) LIKE '%own work%' THEN true ELSE false END AS own_work\n",
    "FROM wmf.mediawiki_history\n",
    "WHERE snapshot = '{mw_snapshot}' \n",
    "    AND event_timestamp >= '{start_date}'\n",
    "    AND event_timestamp < '{end_date}' \n",
    "    AND event_entity = 'revision' \n",
    "    AND event_type = 'create' \n",
    "    AND page_namespace_is_content_historical \n",
    "    AND NOT page_is_redirect\n",
    "    AND revision_parent_id = 0\n",
    "    AND wiki_db = 'commonswiki'\n",
    "    AND SIZE(event_user_is_bot_by) <= 0\n",
    "    AND SIZE(event_user_is_bot_by_historical) <= 0\n",
    "\"\"\""
   ]
  },
  {
   "cell_type": "code",
   "execution_count": 8,
   "id": "74ad21a3-7fc8-4d48-8945-82d230ee771f",
   "metadata": {},
   "outputs": [
    {
     "name": "stderr",
     "output_type": "stream",
     "text": [
      "                                                                                \r"
     ]
    }
   ],
   "source": [
    "upload_data = spark.run( \n",
    "        uploads_query.format(\n",
    "          start_date = start_date,\n",
    "          end_date = end_date,\n",
    "          mw_snapshot = snapshot\n",
    "        )\n",
    "    )"
   ]
  },
  {
   "cell_type": "code",
   "execution_count": 9,
   "id": "12426cff-5fa1-4ffa-ae0c-42c178860b0b",
   "metadata": {},
   "outputs": [],
   "source": [
    "# store in global temp view\n",
    "uploads_sdf = spark_session.createDataFrame(upload_data)\n",
    "uploads_sdf.createGlobalTempView(\"upload_data\")"
   ]
  },
  {
   "cell_type": "markdown",
   "id": "9147aae0-13ca-45ea-8011-5342182d8680",
   "metadata": {},
   "source": [
    "## Deletion Requests"
   ]
  },
  {
   "cell_type": "markdown",
   "id": "8c46c459-8b07-419f-83c9-9adac54d2f99",
   "metadata": {},
   "source": [
    "Templates and corresponding template ids: {{Delete}} (id 589), {{Speedydelete}} (id 157), {{SD}} (id 417), {{Copyvio}} (id 458)"
   ]
  },
  {
   "cell_type": "code",
   "execution_count": 10,
   "id": "1762d188-4357-4690-b841-2b02ef549d08",
   "metadata": {},
   "outputs": [],
   "source": [
    "deletion_query = \"\"\"\n",
    "\n",
    "SELECT \n",
    "    tl_from as page_id,\n",
    "    CASE WHEN tl_target_id = 589 THEN 'deletion'\n",
    "         WHEN tl_target_id = 157 OR tl_target_id = 417 THEN 'speedy_deletion'\n",
    "         WHEN tl_target_id = 458 THEN 'copy_vio'\n",
    "    END AS dr_type\n",
    "FROM wmf_raw.mediawiki_templatelinks\n",
    "WHERE snapshot = '{mw_snapshot}' \n",
    "    AND wiki_db='commonswiki'\n",
    "    AND tl_from_namespace=6 \n",
    "    AND tl_target_id in (589,157,417,458)\n",
    "\"\"\""
   ]
  },
  {
   "cell_type": "code",
   "execution_count": 11,
   "id": "9d3d8885-bd6f-4d31-87ff-276763495b8e",
   "metadata": {},
   "outputs": [
    {
     "name": "stderr",
     "output_type": "stream",
     "text": [
      "                                                                                \r"
     ]
    }
   ],
   "source": [
    "deletion_data = spark.run( \n",
    "        deletion_query.format(\n",
    "          mw_snapshot = snapshot\n",
    "        )\n",
    "    )"
   ]
  },
  {
   "cell_type": "code",
   "execution_count": 12,
   "id": "66c7316a-194c-4adf-91a0-1a0bd68d5066",
   "metadata": {},
   "outputs": [],
   "source": [
    "# store in global temp view\n",
    "deletion_sdf = spark_session.createDataFrame(deletion_data)\n",
    "deletion_sdf.createGlobalTempView(\"deletion_data\")"
   ]
  },
  {
   "cell_type": "markdown",
   "id": "24e430f9-7f1b-4387-82eb-f4bc27d3b731",
   "metadata": {},
   "source": [
    "## File Uploards Metrics"
   ]
  },
  {
   "cell_type": "code",
   "execution_count": 13,
   "id": "dfe4e24e-8133-4fd7-bf4c-a7beb5c0c81d",
   "metadata": {},
   "outputs": [
    {
     "name": "stderr",
     "output_type": "stream",
     "text": [
      "23/06/21 07:15:36 WARN WindowExec: No Partition Defined for Window operation! Moving all data to a single partition, this can cause serious performance degradation.\n",
      "23/06/21 07:15:36 WARN TaskSetManager: Stage 2 contains a task of very large size (5435 KiB). The maximum recommended task size is 1000 KiB.\n",
      "                                                                                \r"
     ]
    },
    {
     "data": {
      "text/html": [
       "<div>\n",
       "<style scoped>\n",
       "    .dataframe tbody tr th:only-of-type {\n",
       "        vertical-align: middle;\n",
       "    }\n",
       "\n",
       "    .dataframe tbody tr th {\n",
       "        vertical-align: top;\n",
       "    }\n",
       "\n",
       "    .dataframe thead th {\n",
       "        text-align: right;\n",
       "    }\n",
       "</style>\n",
       "<table border=\"1\" class=\"dataframe\">\n",
       "  <thead>\n",
       "    <tr style=\"text-align: right;\">\n",
       "      <th></th>\n",
       "      <th>upload_wizard</th>\n",
       "      <th>own_work</th>\n",
       "      <th>uploads</th>\n",
       "      <th>pct</th>\n",
       "    </tr>\n",
       "  </thead>\n",
       "  <tbody>\n",
       "    <tr>\n",
       "      <th>0</th>\n",
       "      <td>True</td>\n",
       "      <td>False</td>\n",
       "      <td>76111</td>\n",
       "      <td>13.30165399026900</td>\n",
       "    </tr>\n",
       "    <tr>\n",
       "      <th>1</th>\n",
       "      <td>True</td>\n",
       "      <td>True</td>\n",
       "      <td>229782</td>\n",
       "      <td>40.15819864660813</td>\n",
       "    </tr>\n",
       "    <tr>\n",
       "      <th>2</th>\n",
       "      <td>False</td>\n",
       "      <td>True</td>\n",
       "      <td>157</td>\n",
       "      <td>0.02743834237459</td>\n",
       "    </tr>\n",
       "    <tr>\n",
       "      <th>3</th>\n",
       "      <td>False</td>\n",
       "      <td>False</td>\n",
       "      <td>266142</td>\n",
       "      <td>46.51270902074828</td>\n",
       "    </tr>\n",
       "  </tbody>\n",
       "</table>\n",
       "</div>"
      ],
      "text/plain": [
       "   upload_wizard  own_work  uploads                pct\n",
       "0           True     False    76111  13.30165399026900\n",
       "1           True      True   229782  40.15819864660813\n",
       "2          False      True      157   0.02743834237459\n",
       "3          False     False   266142  46.51270902074828"
      ]
     },
     "execution_count": 13,
     "metadata": {},
     "output_type": "execute_result"
    }
   ],
   "source": [
    "spark.run(\"\"\"\n",
    "SELECT upload_wizard, own_work, \n",
    "    COUNT(DISTINCT(page_id)) AS uploads,\n",
    "    COUNT(DISTINCT(page_id)) * 100.0 / SUM(COUNT(DISTINCT(page_id))) OVER () AS pct\n",
    "FROM global_temp.upload_data\n",
    "WHERE platform = 'other'\n",
    "GROUP BY upload_wizard, own_work\n",
    "\"\"\")"
   ]
  },
  {
   "cell_type": "markdown",
   "id": "0fc92e02-19eb-46f5-a73a-08fe9138c0cd",
   "metadata": {},
   "source": [
    "In May 2023, there are 572,192 uploads on desktop in Commons excluding bot uploads. 305,893 (53.5%) of uploads are from upload wizard; and 266,299 (46.5%) are from other upload method. \n",
    "\n",
    "In all the uploads from upload wizard, 75.1% are own work, and 24.9% are not own work. While from other upload method, it's hard to define the files are own work or not, because not as the upload wizard, the edit comments are not standard or in other languages. We can only detevt 0.05% of the files are own work. "
   ]
  },
  {
   "cell_type": "markdown",
   "id": "1115d7e6-004a-4f87-a6c6-bae66f6c5ae0",
   "metadata": {},
   "source": [
    "## Deletion Request Metrics"
   ]
  },
  {
   "cell_type": "code",
   "execution_count": 14,
   "id": "56af49f5-f99e-42fb-979b-c03f6ed707b1",
   "metadata": {},
   "outputs": [
    {
     "name": "stderr",
     "output_type": "stream",
     "text": [
      "23/06/21 07:15:48 WARN TaskSetManager: Stage 6 contains a task of very large size (5435 KiB). The maximum recommended task size is 1000 KiB.\n",
      "                                                                                \r"
     ]
    },
    {
     "data": {
      "text/html": [
       "<div>\n",
       "<style scoped>\n",
       "    .dataframe tbody tr th:only-of-type {\n",
       "        vertical-align: middle;\n",
       "    }\n",
       "\n",
       "    .dataframe tbody tr th {\n",
       "        vertical-align: top;\n",
       "    }\n",
       "\n",
       "    .dataframe thead th {\n",
       "        text-align: right;\n",
       "    }\n",
       "</style>\n",
       "<table border=\"1\" class=\"dataframe\">\n",
       "  <thead>\n",
       "    <tr style=\"text-align: right;\">\n",
       "      <th></th>\n",
       "      <th>upload_wizard</th>\n",
       "      <th>own_work</th>\n",
       "      <th>deletion_request</th>\n",
       "      <th>sd_request</th>\n",
       "    </tr>\n",
       "  </thead>\n",
       "  <tbody>\n",
       "    <tr>\n",
       "      <th>0</th>\n",
       "      <td>True</td>\n",
       "      <td>False</td>\n",
       "      <td>333</td>\n",
       "      <td>4</td>\n",
       "    </tr>\n",
       "    <tr>\n",
       "      <th>1</th>\n",
       "      <td>True</td>\n",
       "      <td>True</td>\n",
       "      <td>732</td>\n",
       "      <td>6</td>\n",
       "    </tr>\n",
       "    <tr>\n",
       "      <th>2</th>\n",
       "      <td>False</td>\n",
       "      <td>True</td>\n",
       "      <td>1</td>\n",
       "      <td>0</td>\n",
       "    </tr>\n",
       "    <tr>\n",
       "      <th>3</th>\n",
       "      <td>False</td>\n",
       "      <td>False</td>\n",
       "      <td>5344</td>\n",
       "      <td>5</td>\n",
       "    </tr>\n",
       "  </tbody>\n",
       "</table>\n",
       "</div>"
      ],
      "text/plain": [
       "   upload_wizard  own_work  deletion_request  sd_request\n",
       "0           True     False               333           4\n",
       "1           True      True               732           6\n",
       "2          False      True                 1           0\n",
       "3          False     False              5344           5"
      ]
     },
     "execution_count": 14,
     "metadata": {},
     "output_type": "execute_result"
    }
   ],
   "source": [
    "spark.run(\"\"\"\n",
    "SELECT \n",
    "    upload_wizard, \n",
    "    own_work, \n",
    "    COUNT(DISTINCT(u.page_id)) AS deletion_request,\n",
    "    COUNT(DISTINCT CASE WHEN dr_type = 'speedy_deletion' THEN u.page_id END) AS sd_request\n",
    "FROM global_temp.upload_data u \n",
    "    INNER JOIN global_temp.deletion_data d ON u.page_id = d.page_id\n",
    "WHERE platform = 'other'\n",
    "GROUP BY upload_wizard, own_work\n",
    "\"\"\")"
   ]
  },
  {
   "cell_type": "markdown",
   "id": "809e8c3f-d528-474b-8f70-34f0fb44f4eb",
   "metadata": {},
   "source": [
    "There are 6,410 deletion requests in total and 83% of the deletion requests are from files through other workstream. \n",
    "\n",
    "For upload wizard uploads, there are 1,065 deletion requests, and 10 of them are speedy deletions. 732 are own works and 333 are not own works. "
   ]
  },
  {
   "cell_type": "markdown",
   "id": "d4f74d3f-ada2-4d64-b732-39c7994b854e",
   "metadata": {},
   "source": [
    "## Uploads & Deletion Ratios"
   ]
  },
  {
   "cell_type": "code",
   "execution_count": 16,
   "id": "2e7cf008-fea9-4efc-95ea-ea25cc2ddeef",
   "metadata": {},
   "outputs": [
    {
     "name": "stderr",
     "output_type": "stream",
     "text": [
      "23/06/21 07:17:48 WARN TaskSetManager: Stage 12 contains a task of very large size (5435 KiB). The maximum recommended task size is 1000 KiB.\n",
      "                                                                                \r"
     ]
    },
    {
     "data": {
      "text/html": [
       "<div>\n",
       "<style scoped>\n",
       "    .dataframe tbody tr th:only-of-type {\n",
       "        vertical-align: middle;\n",
       "    }\n",
       "\n",
       "    .dataframe tbody tr th {\n",
       "        vertical-align: top;\n",
       "    }\n",
       "\n",
       "    .dataframe thead th {\n",
       "        text-align: right;\n",
       "    }\n",
       "</style>\n",
       "<table border=\"1\" class=\"dataframe\">\n",
       "  <thead>\n",
       "    <tr style=\"text-align: right;\">\n",
       "      <th></th>\n",
       "      <th>upload_wizard</th>\n",
       "      <th>own_work</th>\n",
       "      <th>uploads</th>\n",
       "      <th>sd_request</th>\n",
       "      <th>sd_request</th>\n",
       "    </tr>\n",
       "  </thead>\n",
       "  <tbody>\n",
       "    <tr>\n",
       "      <th>0</th>\n",
       "      <td>True</td>\n",
       "      <td>False</td>\n",
       "      <td>76111</td>\n",
       "      <td>329</td>\n",
       "      <td>4</td>\n",
       "    </tr>\n",
       "    <tr>\n",
       "      <th>1</th>\n",
       "      <td>True</td>\n",
       "      <td>True</td>\n",
       "      <td>229782</td>\n",
       "      <td>726</td>\n",
       "      <td>6</td>\n",
       "    </tr>\n",
       "    <tr>\n",
       "      <th>2</th>\n",
       "      <td>False</td>\n",
       "      <td>True</td>\n",
       "      <td>157</td>\n",
       "      <td>1</td>\n",
       "      <td>0</td>\n",
       "    </tr>\n",
       "    <tr>\n",
       "      <th>3</th>\n",
       "      <td>False</td>\n",
       "      <td>False</td>\n",
       "      <td>266142</td>\n",
       "      <td>5339</td>\n",
       "      <td>5</td>\n",
       "    </tr>\n",
       "  </tbody>\n",
       "</table>\n",
       "</div>"
      ],
      "text/plain": [
       "   upload_wizard  own_work  uploads  sd_request  sd_request\n",
       "0           True     False    76111         329           4\n",
       "1           True      True   229782         726           6\n",
       "2          False      True      157           1           0\n",
       "3          False     False   266142        5339           5"
      ]
     },
     "execution_count": 16,
     "metadata": {},
     "output_type": "execute_result"
    }
   ],
   "source": [
    "spark.run(\"\"\"\n",
    "SELECT \n",
    "    upload_wizard, \n",
    "    own_work, \n",
    "    COUNT(DISTINCT(u.page_id)) AS uploads,\n",
    "    COUNT(DISTINCT CASE WHEN dr_type != 'speedy_deletion' THEN u.page_id END) AS deletion_request,\n",
    "    COUNT(DISTINCT CASE WHEN dr_type = 'speedy_deletion' THEN u.page_id END) AS sd_request\n",
    "FROM global_temp.upload_data u \n",
    "    LEFT JOIN global_temp.deletion_data d ON u.page_id = d.page_id\n",
    "WHERE platform = 'other'\n",
    "GROUP BY upload_wizard, own_work\n",
    "\"\"\")"
   ]
  },
  {
   "cell_type": "markdown",
   "id": "072d6bd8-2cd1-4ccf-811b-7544aaa0ef9e",
   "metadata": {},
   "source": [
    "For upload wizard, the ratio of upload media to filed deletion requests within a month, excluding speedy deletions is 1:0.003. this ratio is 1:0.004 for not own work and 1:0.003 for own work."
   ]
  },
  {
   "cell_type": "markdown",
   "id": "17016202-e260-45a9-8032-03d1b248fc5a",
   "metadata": {},
   "source": [
    "For uploads not through upload wizard, the ratio of upload media to filed deletion requests within a month, excluding speedy deletions is 1:0.02. This ratio is 1:0.006 for own work and 1:0.02 for not own work. "
   ]
  }
 ],
 "metadata": {
  "kernelspec": {
   "display_name": "Python 3 (ipykernel)",
   "language": "python",
   "name": "python3"
  },
  "language_info": {
   "codemirror_mode": {
    "name": "ipython",
    "version": 3
   },
   "file_extension": ".py",
   "mimetype": "text/x-python",
   "name": "python",
   "nbconvert_exporter": "python",
   "pygments_lexer": "ipython3",
   "version": "3.10.8"
  }
 },
 "nbformat": 4,
 "nbformat_minor": 5
}
