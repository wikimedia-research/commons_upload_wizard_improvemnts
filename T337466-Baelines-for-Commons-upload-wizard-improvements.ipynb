{
 "cells": [
  {
   "cell_type": "markdown",
   "id": "22bf8f9e-2a26-4035-a18e-9bb3d9865b4b",
   "metadata": {},
   "source": [
    "# Baselines for Commons Upload Wizard Improvements"
   ]
  },
  {
   "cell_type": "markdown",
   "id": "bf7a0d1f-d03d-4f88-9e2c-b280a71b83aa",
   "metadata": {},
   "source": [
    "[T337466](https://phabricator.wikimedia.org/T337466)"
   ]
  },
  {
   "cell_type": "markdown",
   "id": "899ab1b7-0db3-426f-bf21-61c8ec263165",
   "metadata": {},
   "source": [
    "The goal of this task is to calculate baselines success metrics and goals for Commons upload wizard improvements. "
   ]
  },
  {
   "cell_type": "markdown",
   "id": "feeef462-fe3f-4102-9eab-0ce901a306d7",
   "metadata": {},
   "source": [
    "In this notebook, we want include the baselines for the follwoing metrics:\n",
    "- Total number of upload media within a month through upload wizard (filter by own work and not own work)\n",
    "- Total number of filed deletion requests and total number of speedy deletions within a month (filter by own work and not own work)\n",
    "- Deletion rate of upload media (filter bu own work and not own work)\n",
    "- Time to deletions"
   ]
  },
  {
   "cell_type": "code",
   "execution_count": null,
   "id": "151d9d42-dc5d-471d-bbdb-a12f3a27d6f8",
   "metadata": {},
   "outputs": [],
   "source": [
    "import re\n",
    "\n",
    "from wmfdata import hive, mariadb, spark\n",
    "import wmfdata \n",
    "\n",
    "import math\n",
    "import pandas as pd\n",
    "import numpy as np\n",
    "\n",
    "from datetime import datetime, timedelta, date"
   ]
  },
  {
   "cell_type": "code",
   "execution_count": 3,
   "id": "b3b62e7a-f560-445e-b9d2-8dc9d0e79b9f",
   "metadata": {},
   "outputs": [
    {
     "name": "stdout",
     "output_type": "stream",
     "text": [
      "SPARK_HOME: /usr/lib/spark3\n",
      "Using Hadoop client lib jars at 3.2.0, provided by Spark.\n",
      "PYSPARK_PYTHON=/opt/conda-analytics/bin/python3\n"
     ]
    },
    {
     "name": "stderr",
     "output_type": "stream",
     "text": [
      "Setting default log level to \"WARN\".\n",
      "To adjust logging level use sc.setLogLevel(newLevel). For SparkR, use setLogLevel(newLevel).\n",
      "23/06/26 07:16:14 WARN SparkConf: Note that spark.local.dir will be overridden by the value set by the cluster manager (via SPARK_LOCAL_DIRS in mesos/standalone/kubernetes and LOCAL_DIRS in YARN).\n",
      "23/06/26 07:16:14 WARN Utils: Service 'sparkDriver' could not bind on port 12000. Attempting port 12001.\n",
      "23/06/26 07:16:15 WARN Utils: Service 'SparkUI' could not bind on port 4040. Attempting port 4041.\n",
      "23/06/26 07:16:23 WARN Utils: Service 'org.apache.spark.network.netty.NettyBlockTransferService' could not bind on port 13000. Attempting port 13001.\n",
      "23/06/26 07:16:23 WARN YarnSchedulerBackend$YarnSchedulerEndpoint: Attempted to request executors before the AM has registered!\n"
     ]
    }
   ],
   "source": [
    "spark_session  = wmfdata.spark.create_custom_session(\n",
    "    master='yarn',\n",
    "    spark_config={\n",
    "        'spark.driver.memory': '32g',\n",
    "        'spark.driver.cores': '4',\n",
    "        'spark.executor.memory': '32g',\n",
    "        'spark.executor.core': '8',\n",
    "        'spark.dynamicAllocation.maxExecutors': '256'\n",
    "    }\n",
    ")"
   ]
  },
  {
   "cell_type": "code",
   "execution_count": 4,
   "id": "40a94bac-4853-4ff5-8a56-3d674e125783",
   "metadata": {},
   "outputs": [],
   "source": [
    "snapshot = '2023-05'  \n",
    "start_date = '2023-01-01'\n",
    "end_date = '2023-06-01'"
   ]
  },
  {
   "cell_type": "markdown",
   "id": "7d25ce30-565c-4ce2-ab3b-1321fb48c52d",
   "metadata": {},
   "source": [
    "## File Uploads"
   ]
  },
  {
   "cell_type": "markdown",
   "id": "4a77c847-6413-44e2-8afa-f81ecf9d9bc9",
   "metadata": {},
   "source": [
    "Get file uploads data, we will exclude bot and mobile uploads here. "
   ]
  },
  {
   "cell_type": "markdown",
   "id": "69661486-8a27-41b2-91fc-643e01520b00",
   "metadata": {},
   "source": [
    "In `mediawiki_history` table, for deleted pages, the event_comment and page_is_redirect fields are both NULL. In this case, in order to get file uploads that are deleted and their event comments, we need to join with `mediawiki_logging` and `mediawiki_private_comment` table."
   ]
  },
  {
   "cell_type": "code",
   "execution_count": 5,
   "id": "85846ba2-2f99-4b52-8126-644e47cc9812",
   "metadata": {},
   "outputs": [],
   "source": [
    "# get uploads that are not deleted \n",
    "uploads_ud_query = \"\"\"\n",
    "SELECT\n",
    "   event_timestamp,\n",
    "   page_id,\n",
    "   CASE WHEN ARRAY_CONTAINS(revision_tags, 'uploadwizard') THEN true ELSE false END AS upload_wizard,\n",
    "   CASE WHEN ARRAY_CONTAINS(revision_tags, 'ios app edit') \n",
    "            OR ARRAY_CONTAINS(revision_tags, 'android app edit') \n",
    "            OR ARRAY_CONTAINS(revision_tags, 'mobile app edit') \n",
    "            OR ARRAY_CONTAINS(revision_tags, 'mobile web edit') THEN 'mobile'\n",
    "        ELSE 'other'\n",
    "    END AS platform,\n",
    "    CASE WHEN LOWER(event_comment) LIKE '%own work%' THEN true ELSE false END AS own_work,\n",
    "    page_is_deleted\n",
    "FROM wmf.mediawiki_history\n",
    "WHERE snapshot = '{mw_snapshot}' \n",
    "    AND event_timestamp >= '{start_date}'\n",
    "    AND event_timestamp < '{end_date}' \n",
    "    AND event_entity = 'revision'\n",
    "    AND event_type = 'create' \n",
    "    AND page_namespace=6\n",
    "    AND revision_parent_id = 0\n",
    "    AND NOT page_is_redirect \n",
    "    AND NOT page_is_deleted\n",
    "    AND wiki_db = 'commonswiki'\n",
    "    AND SIZE(event_user_is_bot_by) <= 0\n",
    "    AND SIZE(event_user_is_bot_by_historical) <= 0\n",
    "\"\"\""
   ]
  },
  {
   "cell_type": "code",
   "execution_count": 6,
   "id": "74ad21a3-7fc8-4d48-8945-82d230ee771f",
   "metadata": {},
   "outputs": [
    {
     "name": "stderr",
     "output_type": "stream",
     "text": [
      "23/06/26 07:16:28 WARN SessionState: METASTORE_FILTER_HOOK will be ignored, since hive.security.authorization.manager is set to instance of HiveAuthorizerFactory.\n",
      "23/06/26 07:17:20 WARN YarnSchedulerBackend$YarnSchedulerEndpoint: Requesting driver to remove executor 193 for reason Container container_e85_1687442676858_18332_01_000384 on host: an-worker1098.eqiad.wmnet was preempted.\n",
      "23/06/26 07:17:20 ERROR YarnScheduler: Lost executor 193 on an-worker1098.eqiad.wmnet: Container container_e85_1687442676858_18332_01_000384 on host: an-worker1098.eqiad.wmnet was preempted.\n",
      "23/06/26 07:17:38 ERROR YarnScheduler: Lost executor 197 on an-worker1098.eqiad.wmnet: Container container_e85_1687442676858_18332_01_000389 on host: an-worker1098.eqiad.wmnet was preempted.\n",
      "23/06/26 07:17:38 WARN YarnSchedulerBackend$YarnSchedulerEndpoint: Requesting driver to remove executor 197 for reason Container container_e85_1687442676858_18332_01_000389 on host: an-worker1098.eqiad.wmnet was preempted.\n",
      "23/06/26 07:17:56 WARN YarnSchedulerBackend$YarnSchedulerEndpoint: Requesting driver to remove executor 198 for reason Container container_e85_1687442676858_18332_01_000392 on host: an-worker1098.eqiad.wmnet was preempted.\n",
      "23/06/26 07:17:56 ERROR YarnScheduler: Lost executor 198 on an-worker1098.eqiad.wmnet: Container container_e85_1687442676858_18332_01_000392 on host: an-worker1098.eqiad.wmnet was preempted.\n",
      "23/06/26 07:18:14 ERROR YarnScheduler: Lost executor 199 on an-worker1098.eqiad.wmnet: Container container_e85_1687442676858_18332_01_000394 on host: an-worker1098.eqiad.wmnet was preempted.\n",
      "23/06/26 07:18:14 WARN YarnSchedulerBackend$YarnSchedulerEndpoint: Requesting driver to remove executor 199 for reason Container container_e85_1687442676858_18332_01_000394 on host: an-worker1098.eqiad.wmnet was preempted.\n",
      "                                                                                \r"
     ]
    }
   ],
   "source": [
    "upload_ud_data = spark.run( \n",
    "        uploads_ud_query.format(\n",
    "          start_date = start_date,\n",
    "          end_date = end_date,\n",
    "          mw_snapshot = snapshot\n",
    "        )\n",
    "    )"
   ]
  },
  {
   "cell_type": "code",
   "execution_count": 7,
   "id": "44923b4b-5e90-4cca-9fab-76dfcfb2e23d",
   "metadata": {},
   "outputs": [],
   "source": [
    "# get uploads that are deleted \n",
    "uploads_d_query = \"\"\"\n",
    "SELECT\n",
    "   event_timestamp,\n",
    "   page_id,\n",
    "   CASE WHEN ARRAY_CONTAINS(revision_tags, 'uploadwizard') THEN true ELSE false END AS upload_wizard,\n",
    "   CASE WHEN ARRAY_CONTAINS(revision_tags, 'ios app edit') \n",
    "            OR ARRAY_CONTAINS(revision_tags, 'android app edit') \n",
    "            OR ARRAY_CONTAINS(revision_tags, 'mobile app edit') \n",
    "            OR ARRAY_CONTAINS(revision_tags, 'mobile web edit') THEN 'mobile'\n",
    "        ELSE 'other'\n",
    "    END AS platform,\n",
    "    CASE WHEN LOWER(c.comment_text) LIKE '%own work%' THEN true ELSE false END AS own_work,\n",
    "    page_is_deleted\n",
    "FROM wmf.mediawiki_history mh \n",
    "    LEFT JOIN wmf_raw.mediawiki_logging l ON mh.page_id = l.log_page\n",
    "    LEFT JOIN wmf_raw.mediawiki_private_comment c  ON l.log_comment_id = c.comment_id\n",
    "WHERE mh.snapshot = '{mw_snapshot}' \n",
    "    AND c.snapshot = '{mw_snapshot}'\n",
    "    AND l.snapshot = '{mw_snapshot}'\n",
    "    AND event_timestamp >= '{start_date}'\n",
    "    AND event_timestamp < '{end_date}' \n",
    "    AND event_entity = 'revision' \n",
    "    AND event_type = 'create' \n",
    "    AND page_namespace=6\n",
    "    AND log_namespace = 6\n",
    "    AND log_type = 'upload'\n",
    "    AND log_action = 'upload'\n",
    "    AND revision_parent_id = 0\n",
    "    AND page_is_deleted\n",
    "    AND mh.wiki_db = 'commonswiki'\n",
    "    AND c.wiki_db = 'commonswiki'\n",
    "    AND l.wiki_db = 'commonswiki'\n",
    "    AND SIZE(event_user_is_bot_by) <= 0\n",
    "    AND SIZE(event_user_is_bot_by_historical) <= 0\n",
    "\"\"\""
   ]
  },
  {
   "cell_type": "code",
   "execution_count": 8,
   "id": "890880a9-b3a3-4642-9fbf-cb4bb5281379",
   "metadata": {},
   "outputs": [
    {
     "name": "stderr",
     "output_type": "stream",
     "text": [
      "                                                                                ]\r"
     ]
    }
   ],
   "source": [
    "upload_d_data = spark.run( \n",
    "        uploads_d_query.format(\n",
    "          start_date = start_date,\n",
    "          end_date = end_date,\n",
    "          mw_snapshot = snapshot\n",
    "        )\n",
    "    )"
   ]
  },
  {
   "cell_type": "code",
   "execution_count": 9,
   "id": "9fcb7321-12ed-460a-860a-74af1b15ad61",
   "metadata": {},
   "outputs": [
    {
     "name": "stderr",
     "output_type": "stream",
     "text": [
      "/tmp/ipykernel_4374/2623581098.py:1: FutureWarning: The frame.append method is deprecated and will be removed from pandas in a future version. Use pandas.concat instead.\n",
      "  upload_data = upload_d_data.append(upload_ud_data)\n"
     ]
    }
   ],
   "source": [
    "upload_data = upload_d_data.append(upload_ud_data)"
   ]
  },
  {
   "cell_type": "code",
   "execution_count": 10,
   "id": "12426cff-5fa1-4ffa-ae0c-42c178860b0b",
   "metadata": {},
   "outputs": [],
   "source": [
    "# store in global temp view\n",
    "uploads_sdf = spark_session.createDataFrame(upload_data)\n",
    "uploads_sdf.createGlobalTempView(\"upload_data\")"
   ]
  },
  {
   "cell_type": "markdown",
   "id": "9147aae0-13ca-45ea-8011-5342182d8680",
   "metadata": {},
   "source": [
    "## Deletions"
   ]
  },
  {
   "cell_type": "code",
   "execution_count": 19,
   "id": "9daa565e-0b39-4046-b39d-b4a0730d0e66",
   "metadata": {},
   "outputs": [],
   "source": [
    "deletion_query = \"\"\"\n",
    "SELECT\n",
    "   event_timestamp AS deletion_ts,\n",
    "   page_id,\n",
    "   CASE WHEN LOWER(c.comment_text) LIKE '%speedy%' THEN true ELSE false END AS speedy_deletion\n",
    "FROM wmf.mediawiki_history mh\n",
    "    LEFT JOIN wmf_raw.mediawiki_logging l ON mh.page_id = l.log_page\n",
    "    LEFT JOIN wmf_raw.mediawiki_private_comment c  ON l.log_comment_id = c.comment_id\n",
    "WHERE mh.snapshot = '{mw_snapshot}' \n",
    "    AND c.snapshot = '{mw_snapshot}'\n",
    "    AND l.snapshot = '{mw_snapshot}'\n",
    "    AND event_timestamp >= '{start_date}'\n",
    "    AND event_timestamp < '{end_date}' \n",
    "    AND event_entity = 'revision' \n",
    "    AND event_type = 'create' \n",
    "    AND log_type = 'delete'\n",
    "    AND log_action = 'delete'\n",
    "    AND page_namespace=6\n",
    "    AND page_is_redirect IS NULL\n",
    "    AND page_is_deleted\n",
    "    AND mh.wiki_db = 'commonswiki'\n",
    "    AND c.wiki_db = 'commonswiki'\n",
    "    AND l.wiki_db = 'commonswiki'\n",
    "    AND SIZE(event_user_is_bot_by) <= 0\n",
    "    AND SIZE(event_user_is_bot_by_historical) <= 0\n",
    "\"\"\""
   ]
  },
  {
   "cell_type": "code",
   "execution_count": 20,
   "id": "c7cf6293-d10a-476d-b7b0-6abbe9bc4367",
   "metadata": {},
   "outputs": [
    {
     "name": "stderr",
     "output_type": "stream",
     "text": [
      "                                                                                ]]\r"
     ]
    }
   ],
   "source": [
    "deletion_data = spark.run( \n",
    "        deletion_query.format(\n",
    "          start_date = start_date,\n",
    "          end_date = end_date,\n",
    "          mw_snapshot = snapshot\n",
    "        )\n",
    "    )"
   ]
  },
  {
   "cell_type": "code",
   "execution_count": 21,
   "id": "66c7316a-194c-4adf-91a0-1a0bd68d5066",
   "metadata": {},
   "outputs": [],
   "source": [
    "# store in global temp view\n",
    "deletion_sdf = spark_session.createDataFrame(deletion_data)\n",
    "deletion_sdf.createGlobalTempView(\"deletion_data\")"
   ]
  },
  {
   "cell_type": "markdown",
   "id": "24e430f9-7f1b-4387-82eb-f4bc27d3b731",
   "metadata": {},
   "source": [
    "## File Uploads Metrics"
   ]
  },
  {
   "cell_type": "markdown",
   "id": "3cb5bea6-9135-45e9-b75a-b988f1b7bdfa",
   "metadata": {},
   "source": [
    "File uploads in April and May 2023"
   ]
  },
  {
   "cell_type": "code",
   "execution_count": 11,
   "id": "dfe4e24e-8133-4fd7-bf4c-a7beb5c0c81d",
   "metadata": {},
   "outputs": [
    {
     "name": "stderr",
     "output_type": "stream",
     "text": [
      "23/06/26 07:22:25 WARN TaskSetManager: Stage 6 contains a task of very large size (60351 KiB). The maximum recommended task size is 1000 KiB.\n",
      "                                                                                \r"
     ]
    },
    {
     "data": {
      "text/html": [
       "<div>\n",
       "<style scoped>\n",
       "    .dataframe tbody tr th:only-of-type {\n",
       "        vertical-align: middle;\n",
       "    }\n",
       "\n",
       "    .dataframe tbody tr th {\n",
       "        vertical-align: top;\n",
       "    }\n",
       "\n",
       "    .dataframe thead th {\n",
       "        text-align: right;\n",
       "    }\n",
       "</style>\n",
       "<table border=\"1\" class=\"dataframe\">\n",
       "  <thead>\n",
       "    <tr style=\"text-align: right;\">\n",
       "      <th></th>\n",
       "      <th>month</th>\n",
       "      <th>upload_wizard</th>\n",
       "      <th>own_work</th>\n",
       "      <th>uploads</th>\n",
       "      <th>pct</th>\n",
       "    </tr>\n",
       "  </thead>\n",
       "  <tbody>\n",
       "    <tr>\n",
       "      <th>0</th>\n",
       "      <td>2023-04-01</td>\n",
       "      <td>True</td>\n",
       "      <td>True</td>\n",
       "      <td>215598</td>\n",
       "      <td>37.19348728405668</td>\n",
       "    </tr>\n",
       "    <tr>\n",
       "      <th>1</th>\n",
       "      <td>2023-04-01</td>\n",
       "      <td>True</td>\n",
       "      <td>False</td>\n",
       "      <td>88303</td>\n",
       "      <td>15.23342752550607</td>\n",
       "    </tr>\n",
       "    <tr>\n",
       "      <th>2</th>\n",
       "      <td>2023-04-01</td>\n",
       "      <td>False</td>\n",
       "      <td>False</td>\n",
       "      <td>275696</td>\n",
       "      <td>47.56118178399285</td>\n",
       "    </tr>\n",
       "    <tr>\n",
       "      <th>3</th>\n",
       "      <td>2023-04-01</td>\n",
       "      <td>False</td>\n",
       "      <td>True</td>\n",
       "      <td>69</td>\n",
       "      <td>0.01190340644440</td>\n",
       "    </tr>\n",
       "    <tr>\n",
       "      <th>4</th>\n",
       "      <td>2023-05-01</td>\n",
       "      <td>True</td>\n",
       "      <td>True</td>\n",
       "      <td>234775</td>\n",
       "      <td>40.13007768765971</td>\n",
       "    </tr>\n",
       "    <tr>\n",
       "      <th>5</th>\n",
       "      <td>2023-05-01</td>\n",
       "      <td>False</td>\n",
       "      <td>False</td>\n",
       "      <td>271025</td>\n",
       "      <td>46.32628817079320</td>\n",
       "    </tr>\n",
       "    <tr>\n",
       "      <th>6</th>\n",
       "      <td>2023-05-01</td>\n",
       "      <td>False</td>\n",
       "      <td>True</td>\n",
       "      <td>158</td>\n",
       "      <td>0.02700693120924</td>\n",
       "    </tr>\n",
       "    <tr>\n",
       "      <th>7</th>\n",
       "      <td>2023-05-01</td>\n",
       "      <td>True</td>\n",
       "      <td>False</td>\n",
       "      <td>79077</td>\n",
       "      <td>13.51662721033784</td>\n",
       "    </tr>\n",
       "  </tbody>\n",
       "</table>\n",
       "</div>"
      ],
      "text/plain": [
       "        month  upload_wizard  own_work  uploads                pct\n",
       "0  2023-04-01           True      True   215598  37.19348728405668\n",
       "1  2023-04-01           True     False    88303  15.23342752550607\n",
       "2  2023-04-01          False     False   275696  47.56118178399285\n",
       "3  2023-04-01          False      True       69   0.01190340644440\n",
       "4  2023-05-01           True      True   234775  40.13007768765971\n",
       "5  2023-05-01          False     False   271025  46.32628817079320\n",
       "6  2023-05-01          False      True      158   0.02700693120924\n",
       "7  2023-05-01           True     False    79077  13.51662721033784"
      ]
     },
     "execution_count": 11,
     "metadata": {},
     "output_type": "execute_result"
    }
   ],
   "source": [
    "spark.run(\"\"\"\n",
    "SELECT \n",
    "    trunc(event_timestamp, \"MONTH\") as month,\n",
    "    upload_wizard, own_work, \n",
    "    COUNT(DISTINCT(page_id)) AS uploads,\n",
    "    COUNT(DISTINCT(page_id)) * 100.0 / SUM(COUNT(DISTINCT(page_id))) OVER (PARTITION BY trunc(event_timestamp, \"MONTH\")) AS pct\n",
    "FROM global_temp.upload_data\n",
    "WHERE platform = 'other'\n",
    "  AND event_timestamp >= '2023-04-01'\n",
    "  AND event_timestamp < '2023-06-01' \n",
    "GROUP BY trunc(event_timestamp, \"MONTH\"),upload_wizard, own_work\n",
    "\"\"\")"
   ]
  },
  {
   "cell_type": "markdown",
   "id": "0fc92e02-19eb-46f5-a73a-08fe9138c0cd",
   "metadata": {},
   "source": [
    "In April 2023, there are 579,666 uploads on desktop in Commons excluding bot uploads. 303,901 (52.3%) of uploads are from upload wizard; and 276,038 (47.6%) are from other upload method. \n",
    "In all the uploads from upload wizard, 71.1% are own work, and 28.9% are not own work. \n",
    "\n",
    "In May 2023, there are 585,035 uploads on desktop in Commons excluding bot uploads. 313,852 (53.6%) of uploads are from upload wizard; and 271,183 (46.4%) are from other upload method. \n",
    "In all the uploads from upload wizard, 74.6% are own work, and 25.2% are not own work. \n",
    "\n",
    "While for both months, from other upload method, it's hard to define the files are own work or not, because not as the upload wizard, the edit comments are not standard or in other languages. We can only detect 0.02% of the files are own work. "
   ]
  },
  {
   "cell_type": "markdown",
   "id": "1115d7e6-004a-4f87-a6c6-bae66f6c5ae0",
   "metadata": {},
   "source": [
    "## Deletion Request Metrics"
   ]
  },
  {
   "cell_type": "markdown",
   "id": "7cad210c-a80f-4eff-81e0-edee2771b7e1",
   "metadata": {},
   "source": [
    "Deletions in April and May 2023. \n",
    "Note that, we use  edit comment to determine whether deletions are speedy deletions or not. But a large number of comments are empty or not standard. As a result, it is possible that the actual speedy deletion numbers are greater than the data we calculated. "
   ]
  },
  {
   "cell_type": "code",
   "execution_count": 22,
   "id": "56af49f5-f99e-42fb-979b-c03f6ed707b1",
   "metadata": {},
   "outputs": [
    {
     "name": "stderr",
     "output_type": "stream",
     "text": [
      "23/06/26 07:44:39 WARN TaskSetManager: Stage 29 contains a task of very large size (60351 KiB). The maximum recommended task size is 1000 KiB.\n",
      "                                                                                \r"
     ]
    },
    {
     "data": {
      "text/html": [
       "<div>\n",
       "<style scoped>\n",
       "    .dataframe tbody tr th:only-of-type {\n",
       "        vertical-align: middle;\n",
       "    }\n",
       "\n",
       "    .dataframe tbody tr th {\n",
       "        vertical-align: top;\n",
       "    }\n",
       "\n",
       "    .dataframe thead th {\n",
       "        text-align: right;\n",
       "    }\n",
       "</style>\n",
       "<table border=\"1\" class=\"dataframe\">\n",
       "  <thead>\n",
       "    <tr style=\"text-align: right;\">\n",
       "      <th></th>\n",
       "      <th>month</th>\n",
       "      <th>upload_wizard</th>\n",
       "      <th>own_work</th>\n",
       "      <th>deletion_request</th>\n",
       "      <th>sd_request</th>\n",
       "    </tr>\n",
       "  </thead>\n",
       "  <tbody>\n",
       "    <tr>\n",
       "      <th>0</th>\n",
       "      <td>2023-05-01</td>\n",
       "      <td>True</td>\n",
       "      <td>True</td>\n",
       "      <td>4993</td>\n",
       "      <td>96</td>\n",
       "    </tr>\n",
       "    <tr>\n",
       "      <th>1</th>\n",
       "      <td>2023-05-01</td>\n",
       "      <td>False</td>\n",
       "      <td>True</td>\n",
       "      <td>1</td>\n",
       "      <td>0</td>\n",
       "    </tr>\n",
       "    <tr>\n",
       "      <th>2</th>\n",
       "      <td>2023-04-01</td>\n",
       "      <td>True</td>\n",
       "      <td>True</td>\n",
       "      <td>4847</td>\n",
       "      <td>93</td>\n",
       "    </tr>\n",
       "    <tr>\n",
       "      <th>3</th>\n",
       "      <td>2023-04-01</td>\n",
       "      <td>True</td>\n",
       "      <td>False</td>\n",
       "      <td>5076</td>\n",
       "      <td>77</td>\n",
       "    </tr>\n",
       "    <tr>\n",
       "      <th>4</th>\n",
       "      <td>2023-05-01</td>\n",
       "      <td>False</td>\n",
       "      <td>False</td>\n",
       "      <td>5114</td>\n",
       "      <td>79</td>\n",
       "    </tr>\n",
       "    <tr>\n",
       "      <th>5</th>\n",
       "      <td>2023-05-01</td>\n",
       "      <td>True</td>\n",
       "      <td>False</td>\n",
       "      <td>2966</td>\n",
       "      <td>81</td>\n",
       "    </tr>\n",
       "    <tr>\n",
       "      <th>6</th>\n",
       "      <td>2023-04-01</td>\n",
       "      <td>False</td>\n",
       "      <td>False</td>\n",
       "      <td>6359</td>\n",
       "      <td>101</td>\n",
       "    </tr>\n",
       "    <tr>\n",
       "      <th>7</th>\n",
       "      <td>2023-04-01</td>\n",
       "      <td>False</td>\n",
       "      <td>True</td>\n",
       "      <td>3</td>\n",
       "      <td>0</td>\n",
       "    </tr>\n",
       "  </tbody>\n",
       "</table>\n",
       "</div>"
      ],
      "text/plain": [
       "        month  upload_wizard  own_work  deletion_request  sd_request\n",
       "0  2023-05-01           True      True              4993          96\n",
       "1  2023-05-01          False      True                 1           0\n",
       "2  2023-04-01           True      True              4847          93\n",
       "3  2023-04-01           True     False              5076          77\n",
       "4  2023-05-01          False     False              5114          79\n",
       "5  2023-05-01           True     False              2966          81\n",
       "6  2023-04-01          False     False              6359         101\n",
       "7  2023-04-01          False      True                 3           0"
      ]
     },
     "execution_count": 22,
     "metadata": {},
     "output_type": "execute_result"
    }
   ],
   "source": [
    "spark.run(\"\"\"\n",
    "SELECT \n",
    "    trunc(event_timestamp, \"MONTH\") AS month,\n",
    "    upload_wizard, \n",
    "    own_work, \n",
    "    COUNT(DISTINCT(u.page_id)) AS deletion_request,\n",
    "    COUNT(DISTINCT CASE WHEN speedy_deletion THEN u.page_id END) AS sd_request\n",
    "FROM global_temp.upload_data u \n",
    "    LEFT JOIN global_temp.deletion_data d ON u.page_id = d.page_id\n",
    "WHERE platform = 'other'\n",
    "  AND event_timestamp >= '2023-04-01'\n",
    "  AND event_timestamp < '2023-06-01' \n",
    "  AND page_is_deleted\n",
    "GROUP BY trunc(event_timestamp, \"MONTH\"),upload_wizard, own_work\n",
    "\"\"\")"
   ]
  },
  {
   "cell_type": "markdown",
   "id": "809e8c3f-d528-474b-8f70-34f0fb44f4eb",
   "metadata": {},
   "source": [
    "In April 2023, there are in total 16,285 deletion requests, 271 of them are speedy deletions. 60.9% of them are uploads from upload wizard, and 38.9% of them are from other upload methods.\n",
    "In upload wizard uploads, there are 9,923 deletions. 4,847 (48.8%) are own work and 5,076 (51.2%) are not own work. 170 of them are speedy deletions. \n",
    "\n",
    "In May 2023, there are in total 13,074 deletion requests, 256 of them are speedy deletions. 60.9% of them are uploads from upload wizard, and 39% of them are from other upload methods.\n",
    "In upload wizard uploads, there are 7,959 deletions. 4,993 (63%) are own work and 2966 (37%) are not own work. 177 of them are speedy deletions."
   ]
  },
  {
   "cell_type": "markdown",
   "id": "d4f74d3f-ada2-4d64-b732-39c7994b854e",
   "metadata": {},
   "source": [
    "## Deletion Rate"
   ]
  },
  {
   "cell_type": "markdown",
   "id": "d17dfddc-f42d-4f66-a8fa-f3ee00afe2cf",
   "metadata": {},
   "source": [
    "Deletion rate MoM excluding speedy deletions"
   ]
  },
  {
   "cell_type": "code",
   "execution_count": 28,
   "id": "2e7cf008-fea9-4efc-95ea-ea25cc2ddeef",
   "metadata": {},
   "outputs": [
    {
     "name": "stderr",
     "output_type": "stream",
     "text": [
      "23/06/27 06:02:53 WARN TaskSetManager: Stage 41 contains a task of very large size (60351 KiB). The maximum recommended task size is 1000 KiB.\n",
      "23/06/27 06:02:54 WARN TaskSetManager: Stage 43 contains a task of very large size (60351 KiB). The maximum recommended task size is 1000 KiB.\n",
      "                                                                                \r"
     ]
    },
    {
     "data": {
      "text/html": [
       "<div>\n",
       "<style scoped>\n",
       "    .dataframe tbody tr th:only-of-type {\n",
       "        vertical-align: middle;\n",
       "    }\n",
       "\n",
       "    .dataframe tbody tr th {\n",
       "        vertical-align: top;\n",
       "    }\n",
       "\n",
       "    .dataframe thead th {\n",
       "        text-align: right;\n",
       "    }\n",
       "</style>\n",
       "<table border=\"1\" class=\"dataframe\">\n",
       "  <thead>\n",
       "    <tr style=\"text-align: right;\">\n",
       "      <th></th>\n",
       "      <th>month</th>\n",
       "      <th>all_dr</th>\n",
       "      <th>uw_all_dr</th>\n",
       "      <th>uw_own_dr</th>\n",
       "      <th>uw_not_own_dr</th>\n",
       "      <th>not_uw_dr</th>\n",
       "    </tr>\n",
       "  </thead>\n",
       "  <tbody>\n",
       "    <tr>\n",
       "      <th>0</th>\n",
       "      <td>2023-01-01</td>\n",
       "      <td>4.687209</td>\n",
       "      <td>4.777680</td>\n",
       "      <td>3.596144</td>\n",
       "      <td>7.841766</td>\n",
       "      <td>4.595278</td>\n",
       "    </tr>\n",
       "    <tr>\n",
       "      <th>1</th>\n",
       "      <td>2023-02-01</td>\n",
       "      <td>4.583632</td>\n",
       "      <td>4.300957</td>\n",
       "      <td>3.625446</td>\n",
       "      <td>5.966741</td>\n",
       "      <td>4.917870</td>\n",
       "    </tr>\n",
       "    <tr>\n",
       "      <th>2</th>\n",
       "      <td>2023-03-01</td>\n",
       "      <td>3.363374</td>\n",
       "      <td>3.830104</td>\n",
       "      <td>2.732612</td>\n",
       "      <td>6.390900</td>\n",
       "      <td>2.903313</td>\n",
       "    </tr>\n",
       "    <tr>\n",
       "      <th>3</th>\n",
       "      <td>2023-04-01</td>\n",
       "      <td>2.762635</td>\n",
       "      <td>3.209269</td>\n",
       "      <td>2.205030</td>\n",
       "      <td>5.661189</td>\n",
       "      <td>2.270411</td>\n",
       "    </tr>\n",
       "    <tr>\n",
       "      <th>4</th>\n",
       "      <td>2023-05-01</td>\n",
       "      <td>2.191051</td>\n",
       "      <td>2.479513</td>\n",
       "      <td>2.085827</td>\n",
       "      <td>3.648343</td>\n",
       "      <td>1.857049</td>\n",
       "    </tr>\n",
       "  </tbody>\n",
       "</table>\n",
       "</div>"
      ],
      "text/plain": [
       "        month    all_dr  uw_all_dr  uw_own_dr  uw_not_own_dr  not_uw_dr\n",
       "0  2023-01-01  4.687209   4.777680   3.596144       7.841766   4.595278\n",
       "1  2023-02-01  4.583632   4.300957   3.625446       5.966741   4.917870\n",
       "2  2023-03-01  3.363374   3.830104   2.732612       6.390900   2.903313\n",
       "3  2023-04-01  2.762635   3.209269   2.205030       5.661189   2.270411\n",
       "4  2023-05-01  2.191051   2.479513   2.085827       3.648343   1.857049"
      ]
     },
     "execution_count": 28,
     "metadata": {},
     "output_type": "execute_result"
    }
   ],
   "source": [
    "spark.run(\"\"\"\n",
    "WITH uploads AS (\n",
    "    SELECT \n",
    "        TRUNC(event_timestamp, \"MONTH\") as month,\n",
    "        COUNT(DISTINCT page_id) AS all_upload,\n",
    "        COUNT(DISTINCT CASE WHEN upload_wizard AND own_work THEN page_id END) AS uw_own_upload,\n",
    "        COUNT(DISTINCT CASE WHEN upload_wizard AND NOT own_work THEN page_id END) AS uw_not_own_upload,\n",
    "        COUNT(DISTINCT CASE WHEN NOT upload_wizard THEN page_id END) AS not_uw_upload\n",
    "    FROM global_temp.upload_data\n",
    "    WHERE platform = 'other'\n",
    "      AND event_timestamp >= '2023-01-01'\n",
    "      AND event_timestamp < '2023-06-01' \n",
    "    GROUP BY TRUNC(event_timestamp, \"MONTH\")\n",
    "), \n",
    "deletions AS (\n",
    "    SELECT \n",
    "        TRUNC(event_timestamp, \"MONTH\") AS month,\n",
    "        COUNT(DISTINCT u.page_id) AS all_dele,\n",
    "        COUNT(DISTINCT CASE WHEN upload_wizard AND own_work THEN u.page_id END) AS uw_own_dele,\n",
    "        COUNT(DISTINCT CASE WHEN upload_wizard AND NOT own_work THEN u.page_id END) AS uw_not_own_dele,\n",
    "        COUNT(DISTINCT CASE WHEN NOT upload_wizard THEN u.page_id END) AS not_uw_dele\n",
    "    FROM global_temp.upload_data u \n",
    "        LEFT JOIN global_temp.deletion_data d ON u.page_id = d.page_id\n",
    "    WHERE platform = 'other'\n",
    "      AND event_timestamp >= '2023-01-01'\n",
    "      AND event_timestamp < '2023-06-01' \n",
    "      AND page_is_deleted\n",
    "      AND NOT speedy_deletion\n",
    "    GROUP BY TRUNC(event_timestamp, \"MONTH\")\n",
    ")\n",
    "\n",
    "SELECT\n",
    "    d.month,\n",
    "    all_dele/all_upload * 100 AS all_dr,\n",
    "    (uw_own_dele + uw_not_own_dele)/ (uw_own_upload +uw_not_own_upload) * 100 AS uw_all_dr,\n",
    "    uw_own_dele/uw_own_upload * 100 AS uw_own_dr,\n",
    "    uw_not_own_dele/uw_not_own_upload * 100 AS uw_not_own_dr,\n",
    "    not_uw_dele/not_uw_upload * 100 AS not_uw_dr\n",
    "FROM uploads u JOIN deletions d ON d.month=u.month\n",
    "ORDER BY month\n",
    "\"\"\")"
   ]
  },
  {
   "cell_type": "markdown",
   "id": "24cd6538-94f5-4f60-8833-3edaf0f0e248",
   "metadata": {},
   "source": [
    "In April, the overall deletion rate is 2.76%. the upload wizard uploads (3.21%) has higher deletion rate than uploads through other methods (2.27%). \n",
    "Among the uploads through upload wizard, own work 2.21% has lower deletion rate than not own work (5.66%). \n",
    "\n",
    "In May, the overrall deletion rate is 2.19%. the upload wizard uploads (2.09%) has higher deletion rate than uploads through other methods (1.85%). \n",
    "Among the uploads through upload wizard, own work 2.09% has lower deletion rate than not own work (3.65%). "
   ]
  },
  {
   "cell_type": "markdown",
   "id": "fe39cbe9-244c-4671-a2b8-b12f78dcb00c",
   "metadata": {},
   "source": [
    "From the MoM deletion rates, we can see the deletion rates increasing over time. "
   ]
  },
  {
   "cell_type": "markdown",
   "id": "e1ad5216-7b70-4507-804e-046eb5910e18",
   "metadata": {},
   "source": [
    "Deletion rate MoM with only speedy deletions"
   ]
  },
  {
   "cell_type": "code",
   "execution_count": 29,
   "id": "4e40d67d-23cc-4dd4-b659-7bd33cf468c5",
   "metadata": {},
   "outputs": [
    {
     "name": "stderr",
     "output_type": "stream",
     "text": [
      "23/06/27 07:35:45 WARN TaskSetManager: Stage 56 contains a task of very large size (60351 KiB). The maximum recommended task size is 1000 KiB.\n",
      "23/06/27 07:35:52 WARN TaskSetManager: Stage 59 contains a task of very large size (60351 KiB). The maximum recommended task size is 1000 KiB.\n",
      "                                                                                \r"
     ]
    },
    {
     "data": {
      "text/html": [
       "<div>\n",
       "<style scoped>\n",
       "    .dataframe tbody tr th:only-of-type {\n",
       "        vertical-align: middle;\n",
       "    }\n",
       "\n",
       "    .dataframe tbody tr th {\n",
       "        vertical-align: top;\n",
       "    }\n",
       "\n",
       "    .dataframe thead th {\n",
       "        text-align: right;\n",
       "    }\n",
       "</style>\n",
       "<table border=\"1\" class=\"dataframe\">\n",
       "  <thead>\n",
       "    <tr style=\"text-align: right;\">\n",
       "      <th></th>\n",
       "      <th>month</th>\n",
       "      <th>all_dr</th>\n",
       "      <th>uw_all_dr</th>\n",
       "      <th>uw_own_dr</th>\n",
       "      <th>uw_not_own_dr</th>\n",
       "      <th>not_uw_dr</th>\n",
       "    </tr>\n",
       "  </thead>\n",
       "  <tbody>\n",
       "    <tr>\n",
       "      <th>0</th>\n",
       "      <td>2023-01-01</td>\n",
       "      <td>0.024917</td>\n",
       "      <td>0.030364</td>\n",
       "      <td>0.028588</td>\n",
       "      <td>0.034970</td>\n",
       "      <td>0.019383</td>\n",
       "    </tr>\n",
       "    <tr>\n",
       "      <th>1</th>\n",
       "      <td>2023-02-01</td>\n",
       "      <td>0.010522</td>\n",
       "      <td>0.010662</td>\n",
       "      <td>0.010704</td>\n",
       "      <td>0.010558</td>\n",
       "      <td>0.010356</td>\n",
       "    </tr>\n",
       "    <tr>\n",
       "      <th>2</th>\n",
       "      <td>2023-03-01</td>\n",
       "      <td>0.015307</td>\n",
       "      <td>0.022955</td>\n",
       "      <td>0.015662</td>\n",
       "      <td>0.039972</td>\n",
       "      <td>0.007767</td>\n",
       "    </tr>\n",
       "    <tr>\n",
       "      <th>3</th>\n",
       "      <td>2023-04-01</td>\n",
       "      <td>0.046751</td>\n",
       "      <td>0.055939</td>\n",
       "      <td>0.043136</td>\n",
       "      <td>0.087200</td>\n",
       "      <td>0.036625</td>\n",
       "    </tr>\n",
       "    <tr>\n",
       "      <th>4</th>\n",
       "      <td>2023-05-01</td>\n",
       "      <td>0.043759</td>\n",
       "      <td>0.056396</td>\n",
       "      <td>0.040890</td>\n",
       "      <td>0.102432</td>\n",
       "      <td>0.029132</td>\n",
       "    </tr>\n",
       "  </tbody>\n",
       "</table>\n",
       "</div>"
      ],
      "text/plain": [
       "        month    all_dr  uw_all_dr  uw_own_dr  uw_not_own_dr  not_uw_dr\n",
       "0  2023-01-01  0.024917   0.030364   0.028588       0.034970   0.019383\n",
       "1  2023-02-01  0.010522   0.010662   0.010704       0.010558   0.010356\n",
       "2  2023-03-01  0.015307   0.022955   0.015662       0.039972   0.007767\n",
       "3  2023-04-01  0.046751   0.055939   0.043136       0.087200   0.036625\n",
       "4  2023-05-01  0.043759   0.056396   0.040890       0.102432   0.029132"
      ]
     },
     "execution_count": 29,
     "metadata": {},
     "output_type": "execute_result"
    }
   ],
   "source": [
    "spark.run(\"\"\"\n",
    "WITH uploads AS (\n",
    "    SELECT \n",
    "        TRUNC(event_timestamp, \"MONTH\") as month,\n",
    "        COUNT(DISTINCT page_id) AS all_upload,\n",
    "        COUNT(DISTINCT CASE WHEN upload_wizard AND own_work THEN page_id END) AS uw_own_upload,\n",
    "        COUNT(DISTINCT CASE WHEN upload_wizard AND NOT own_work THEN page_id END) AS uw_not_own_upload,\n",
    "        COUNT(DISTINCT CASE WHEN NOT upload_wizard THEN page_id END) AS not_uw_upload\n",
    "    FROM global_temp.upload_data\n",
    "    WHERE platform = 'other'\n",
    "      AND event_timestamp >= '2023-01-01'\n",
    "      AND event_timestamp < '2023-06-01' \n",
    "    GROUP BY TRUNC(event_timestamp, \"MONTH\")\n",
    "), \n",
    "deletions AS (\n",
    "    SELECT \n",
    "        TRUNC(event_timestamp, \"MONTH\") AS month,\n",
    "        COUNT(DISTINCT u.page_id) AS all_dele,\n",
    "        COUNT(DISTINCT CASE WHEN upload_wizard AND own_work THEN u.page_id END) AS uw_own_dele,\n",
    "        COUNT(DISTINCT CASE WHEN upload_wizard AND NOT own_work THEN u.page_id END) AS uw_not_own_dele,\n",
    "        COUNT(DISTINCT CASE WHEN NOT upload_wizard THEN u.page_id END) AS not_uw_dele\n",
    "    FROM global_temp.upload_data u \n",
    "        LEFT JOIN global_temp.deletion_data d ON u.page_id = d.page_id\n",
    "    WHERE platform = 'other'\n",
    "      AND event_timestamp >= '2023-01-01'\n",
    "      AND event_timestamp < '2023-06-01' \n",
    "      AND page_is_deleted\n",
    "      AND speedy_deletion\n",
    "    GROUP BY TRUNC(event_timestamp, \"MONTH\")\n",
    ")\n",
    "\n",
    "SELECT\n",
    "    d.month,\n",
    "    all_dele/all_upload * 100 AS all_dr,\n",
    "    (uw_own_dele + uw_not_own_dele)/ (uw_own_upload +uw_not_own_upload) * 100 AS uw_all_dr,\n",
    "    uw_own_dele/uw_own_upload * 100 AS uw_own_dr,\n",
    "    uw_not_own_dele/uw_not_own_upload * 100 AS uw_not_own_dr,\n",
    "    not_uw_dele/not_uw_upload * 100 AS not_uw_dr\n",
    "FROM uploads u JOIN deletions d ON d.month=u.month\n",
    "ORDER BY month\n",
    "\"\"\")"
   ]
  },
  {
   "cell_type": "markdown",
   "id": "8d162b79-4475-4003-bfc8-9d3461e9bd8b",
   "metadata": {},
   "source": [
    "## Time to Deletion"
   ]
  },
  {
   "cell_type": "code",
   "execution_count": null,
   "id": "f721e3bf-8030-4b18-9c76-4337bfd020ab",
   "metadata": {},
   "outputs": [],
   "source": []
  },
  {
   "cell_type": "raw",
   "id": "080b0884-99ce-421c-8eb1-ff17c4b8b4a4",
   "metadata": {},
   "source": [
    "#Templates and corresponding template ids: {{Delete}} (id 589), {{Speedydelete}} (id 157), {{SD}} (id 417), {{Copyvio}} (id 458)\n",
    "#Outstanding deletion requests\n",
    "\n",
    "deletion_query = \"\"\"\n",
    "\n",
    "SELECT \n",
    "    tl_from as page_id,\n",
    "    CASE WHEN tl_target_id = 589 THEN 'deletion'\n",
    "         WHEN tl_target_id = 157 OR tl_target_id = 417 THEN 'speedy_deletion'\n",
    "         WHEN tl_target_id = 458 THEN 'copy_vio'\n",
    "    END AS dr_type\n",
    "FROM wmf_raw.mediawiki_templatelinks\n",
    "WHERE snapshot = '{mw_snapshot}' \n",
    "    AND wiki_db='commonswiki'\n",
    "    AND tl_from_namespace=6 \n",
    "    AND tl_target_id in (589,157,417,458)\n",
    "\"\"\""
   ]
  },
  {
   "cell_type": "raw",
   "id": "9de2df7d-6ae8-4242-892b-d8e576e5401e",
   "metadata": {},
   "source": [
    "dr_data = spark.run( \n",
    "        deletion_query.format(\n",
    "          mw_snapshot = snapshot\n",
    "        )\n",
    "    )"
   ]
  }
 ],
 "metadata": {
  "kernelspec": {
   "display_name": "Python 3 (ipykernel)",
   "language": "python",
   "name": "python3"
  },
  "language_info": {
   "codemirror_mode": {
    "name": "ipython",
    "version": 3
   },
   "file_extension": ".py",
   "mimetype": "text/x-python",
   "name": "python",
   "nbconvert_exporter": "python",
   "pygments_lexer": "ipython3",
   "version": "3.10.8"
  }
 },
 "nbformat": 4,
 "nbformat_minor": 5
}
